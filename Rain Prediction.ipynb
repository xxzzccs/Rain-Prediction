{
 "cells": [
  {
   "cell_type": "markdown",
   "id": "4298b4ac",
   "metadata": {},
   "source": [
    "## Introduction \n",
    "Binary classifcation model to predict whether it rains the next day.\n",
    "### Purpose: \n",
    "To explore ML workflows by predicting rainfall\n",
    "\n",
    "### Selection of openmeteo API:\n",
    "Easy to access and no requirement of an API key for data retrieval."
   ]
  },
  {
   "cell_type": "markdown",
   "id": "133d1c00",
   "metadata": {},
   "source": [
    "# 1. Setup"
   ]
  },
  {
   "cell_type": "code",
   "execution_count": null,
   "id": "af7d8f7d",
   "metadata": {},
   "outputs": [
    {
     "name": "stdout",
     "output_type": "stream",
     "text": [
      "Setup Complete.\n"
     ]
    }
   ],
   "source": [
    "#importing required packages \n",
    "import openmeteo_requests\n",
    "from retry_requests import retry \n",
    "import requests_cache\n",
    "from datetime import timedelta\n",
    "import pandas as pd\n",
    "import numpy as np\n",
    "from sklearn.model_selection import train_test_split\n",
    "from sklearn.metrics import accuracy_score, recall_score, precision_score\n",
    "from sklearn.ensemble import RandomForestClassifier\n",
    "from sklearn.impute import SimpleImputer\n",
    "from sklearn.pipeline import Pipeline\n",
    "from sklearn.utils.multiclass import type_of_target\n",
    "import matplotlib.pyplot as plt\n",
    "import seaborn as sns\n",
    "\n",
    "#Global seed variable\n",
    "SEED=0\n",
    "\n",
    "print(\"Setup Complete.\")"
   ]
  },
  {
   "cell_type": "markdown",
   "id": "b34b90d6",
   "metadata": {},
   "source": [
    "# 2. Gathering the data"
   ]
  },
  {
   "cell_type": "markdown",
   "id": "e04abadd",
   "metadata": {},
   "source": [
    "### <ul><li>Gathering Historic Data from $1^{st}$ Jan, 2022 to October $2^{nd}$, 2025</li></ul>"
   ]
  },
  {
   "cell_type": "code",
   "execution_count": 23,
   "id": "fb235ab8",
   "metadata": {},
   "outputs": [
    {
     "name": "stdout",
     "output_type": "stream",
     "text": [
      "Latitude: 13.0\n",
      "Longitude: 77.5\n",
      "Elevation: 883.0\n"
     ]
    }
   ],
   "source": [
    "#URL for historical data from 2022 - 2025\n",
    "url = \"https://historical-forecast-api.open-meteo.com/v1/forecast\"\n",
    "\n",
    "\n",
    "#Creating a cached session to optimize performance with retry mechanism\n",
    "cached_session = requests_cache.CachedSession('.cache', expire_after=timedelta(days=1))\n",
    "retry_session = retry(cached_session, retries=5, backoff_factor=0.2)\n",
    "client = openmeteo_requests.Client(session=retry_session)\n",
    "\n",
    "#Parameters for historic weather data\n",
    "params = {\n",
    "    \"latitude\": 13.009830,\n",
    "    \"longitude\": 77.537437,\n",
    "    \"hourly\": [\"temperature_2m\", \"precipitation\", \"rain\", \"precipitation_probability\", \"wind_speed_10m\", \"wind_direction_10m\", \"surface_pressure\"],\n",
    "    \"start_date\": \"2022-01-01\",\n",
    "    \"end_date\": \"2025-10-02\",\n",
    "}\n",
    "\n",
    "#Sending an HTTP request to the API for the required data\n",
    "responses = client.weather_api(url=url, params=params)\n",
    "response = responses[0]\n",
    "print(f\"Latitude: {response.Latitude()}\")\n",
    "print(f\"Longitude: {response.Longitude()}\")\n",
    "print(f\"Elevation: {response.Elevation()}\")\n",
    "\n",
    "#Processing the hourly variables to Numpy Arrays \n",
    "hourly = response.Hourly()\n",
    "hourly_temperature_2m = hourly.Variables(0).ValuesAsNumpy()\n",
    "hourly_precipitation = hourly.Variables(1).ValuesAsNumpy()\n",
    "hourly_rain = hourly.Variables(2).ValuesAsNumpy()\n",
    "hourly_precipitation_probability = hourly.Variables(3).ValuesAsNumpy()\n",
    "hourly_wind_speed_10m = hourly.Variables(4).ValuesAsNumpy()\n",
    "hourly_wind_direction_10m = hourly.Variables(5).ValuesAsNumpy()\n",
    "hourly_surface_pressure = hourly.Variables(6).ValuesAsNumpy()\n",
    "\n",
    "hourly_data = {\"date\": pd.date_range(\n",
    "    start=pd.to_datetime(hourly.Time(), unit=\"s\", utc=True),\n",
    "    end=pd.to_datetime(hourly.TimeEnd(), unit=\"s\", utc=True),\n",
    "    freq=pd.Timedelta(seconds=hourly.Interval()),\n",
    "    inclusive=\"left\"\n",
    ")}\n",
    "\n",
    "hourly_data[\"temperature_2m\"] = hourly_temperature_2m\n",
    "hourly_data[\"precipitation\"] = hourly_precipitation\n",
    "hourly_data[\"rain\"] = hourly_rain\n",
    "hourly_data[\"precipitation_probability\"] = hourly_precipitation_probability\n",
    "hourly_data[\"wind_speed_10m\"] = hourly_wind_speed_10m\n",
    "hourly_data[\"wind_direction_10m\"] = hourly_wind_direction_10m\n",
    "hourly_data[\"surface_pressure\"] = hourly_surface_pressure\n",
    "\n",
    "historic_data = pd.DataFrame(data=hourly_data)\n",
    "\n",
    "#Saving the data to a csv for easy access without multiple API requests \n",
    "historic_data.to_csv(\"/Users/aniruddhasharma/Library/Mobile Documents/com~apple~CloudDocs/Documents/Career/Projects/Rain Prediction/weather_data.csv\", index=False)\n",
    "\n",
    "\n"
   ]
  },
  {
   "cell_type": "markdown",
   "id": "309a80f0",
   "metadata": {},
   "source": [
    "### <ul><li>Gathering Data on October $3^{rd}$, 2025. This will be used for testing.</li></ul>"
   ]
  },
  {
   "cell_type": "code",
   "execution_count": 24,
   "id": "c04e55b9",
   "metadata": {},
   "outputs": [
    {
     "name": "stdout",
     "output_type": "stream",
     "text": [
      "Latitude: 13.0\n",
      "Longitude: 77.5\n",
      "Elevation: 883.0\n"
     ]
    }
   ],
   "source": [
    "#Data for October 3rd, 2025 to validate model\n",
    "url_current = \"https://api.open-meteo.com/v1/forecast\"\n",
    "\n",
    "#Parameters for current weather data\n",
    "params = {\n",
    "    \"latitude\": 13.009830,\n",
    "    \"longitude\": 77.537437,\n",
    "    \"hourly\": [\"temperature_2m\", \"precipitation\", \"rain\", \"precipitation_probability\", \"wind_speed_10m\", \"wind_direction_10m\", \"surface_pressure\"],\n",
    "    \"start_date\": \"2025-10-03\",\n",
    "    \"end_date\": \"2025-10-03\"\n",
    "}\n",
    "\n",
    "#Sending an HTTP request to the API for the required data\n",
    "responses = client.weather_api(url=url, params=params)\n",
    "response = responses[0]\n",
    "print(f\"Latitude: {response.Latitude()}\")\n",
    "print(f\"Longitude: {response.Longitude()}\")\n",
    "print(f\"Elevation: {response.Elevation()}\")\n",
    "\n",
    "#Processing the hourly variables to Numpy Arrays \n",
    "hourly = response.Hourly()\n",
    "hourly_temperature_2m = hourly.Variables(0).ValuesAsNumpy()\n",
    "hourly_precipitation = hourly.Variables(1).ValuesAsNumpy()\n",
    "hourly_rain = hourly.Variables(2).ValuesAsNumpy()\n",
    "hourly_precipitation_probability = hourly.Variables(3).ValuesAsNumpy()\n",
    "hourly_wind_speed_10m= hourly.Variables(4).ValuesAsNumpy()\n",
    "hourly_wind_direction_10m = hourly.Variables(5).ValuesAsNumpy()\n",
    "hourly_surface_pressure = hourly.Variables(6).ValuesAsNumpy()\n",
    "\n",
    "hourly_data = {\"date\": pd.date_range(\n",
    "    start=pd.to_datetime(hourly.Time(), unit=\"s\", utc=True),\n",
    "    end=pd.to_datetime(hourly.TimeEnd(), unit=\"s\", utc=True),\n",
    "    freq=pd.Timedelta(seconds=hourly.Interval()),\n",
    "    inclusive=\"left\"\n",
    ")}\n",
    "\n",
    "hourly_data[\"temperature_2m\"] = hourly_temperature_2m\n",
    "hourly_data[\"precipitation\"] = hourly_precipitation\n",
    "hourly_data[\"rain\"] = hourly_rain\n",
    "hourly_data[\"precipitation_probability\"] = hourly_precipitation_probability\n",
    "hourly_data[\"wind_speed_10m\"] = hourly_wind_speed_10m\n",
    "hourly_data[\"wind_direction_10m\"] = hourly_wind_direction_10m\n",
    "hourly_data[\"surface_pressure\"] = hourly_surface_pressure\n",
    "\n",
    "validation_data = pd.DataFrame(hourly_data)\n",
    "\n",
    "validation_data.to_csv(\"/Users/aniruddhasharma/Library/Mobile Documents/com~apple~CloudDocs/Documents/Career/Projects/Rain Prediction/validation_data.csv\", index=False)"
   ]
  },
  {
   "cell_type": "code",
   "execution_count": 3,
   "id": "5a70f56e",
   "metadata": {},
   "outputs": [
    {
     "data": {
      "text/html": [
       "<div>\n",
       "<style scoped>\n",
       "    .dataframe tbody tr th:only-of-type {\n",
       "        vertical-align: middle;\n",
       "    }\n",
       "\n",
       "    .dataframe tbody tr th {\n",
       "        vertical-align: top;\n",
       "    }\n",
       "\n",
       "    .dataframe thead th {\n",
       "        text-align: right;\n",
       "    }\n",
       "</style>\n",
       "<table border=\"1\" class=\"dataframe\">\n",
       "  <thead>\n",
       "    <tr style=\"text-align: right;\">\n",
       "      <th></th>\n",
       "      <th>date</th>\n",
       "      <th>temperature_2m</th>\n",
       "      <th>precipitation</th>\n",
       "      <th>rain</th>\n",
       "      <th>precipitation_probability</th>\n",
       "      <th>wind_speed_10m</th>\n",
       "      <th>wind_direction_10m</th>\n",
       "      <th>surface_pressure</th>\n",
       "    </tr>\n",
       "  </thead>\n",
       "  <tbody>\n",
       "    <tr>\n",
       "      <th>0</th>\n",
       "      <td>2022-01-01 00:00:00+00:00</td>\n",
       "      <td>18.921501</td>\n",
       "      <td>0.0</td>\n",
       "      <td>0.0</td>\n",
       "      <td>NaN</td>\n",
       "      <td>14.458382</td>\n",
       "      <td>71.113820</td>\n",
       "      <td>917.58264</td>\n",
       "    </tr>\n",
       "    <tr>\n",
       "      <th>1</th>\n",
       "      <td>2022-01-01 01:00:00+00:00</td>\n",
       "      <td>18.871500</td>\n",
       "      <td>0.1</td>\n",
       "      <td>0.0</td>\n",
       "      <td>NaN</td>\n",
       "      <td>13.339445</td>\n",
       "      <td>86.906006</td>\n",
       "      <td>918.10815</td>\n",
       "    </tr>\n",
       "    <tr>\n",
       "      <th>2</th>\n",
       "      <td>2022-01-01 02:00:00+00:00</td>\n",
       "      <td>19.221500</td>\n",
       "      <td>0.0</td>\n",
       "      <td>0.0</td>\n",
       "      <td>NaN</td>\n",
       "      <td>13.324863</td>\n",
       "      <td>91.548130</td>\n",
       "      <td>918.67110</td>\n",
       "    </tr>\n",
       "    <tr>\n",
       "      <th>3</th>\n",
       "      <td>2022-01-01 03:00:00+00:00</td>\n",
       "      <td>19.971500</td>\n",
       "      <td>0.0</td>\n",
       "      <td>0.0</td>\n",
       "      <td>NaN</td>\n",
       "      <td>16.235960</td>\n",
       "      <td>86.186005</td>\n",
       "      <td>919.72190</td>\n",
       "    </tr>\n",
       "    <tr>\n",
       "      <th>4</th>\n",
       "      <td>2022-01-01 04:00:00+00:00</td>\n",
       "      <td>21.521502</td>\n",
       "      <td>0.0</td>\n",
       "      <td>0.0</td>\n",
       "      <td>NaN</td>\n",
       "      <td>18.775301</td>\n",
       "      <td>85.601380</td>\n",
       "      <td>919.84880</td>\n",
       "    </tr>\n",
       "  </tbody>\n",
       "</table>\n",
       "</div>"
      ],
      "text/plain": [
       "                        date  ...  surface_pressure\n",
       "0  2022-01-01 00:00:00+00:00  ...         917.58264\n",
       "1  2022-01-01 01:00:00+00:00  ...         918.10815\n",
       "2  2022-01-01 02:00:00+00:00  ...         918.67110\n",
       "3  2022-01-01 03:00:00+00:00  ...         919.72190\n",
       "4  2022-01-01 04:00:00+00:00  ...         919.84880\n",
       "\n",
       "[5 rows x 8 columns]"
      ]
     },
     "execution_count": 3,
     "metadata": {},
     "output_type": "execute_result"
    }
   ],
   "source": [
    "# Reading the saved training data CSV file\n",
    "prediction_data_path = \"//Users/aniruddhasharma/Library/Mobile Documents/com~apple~CloudDocs/Documents/Career/Projects/Rain Prediction/weather_data.csv\"\n",
    "prediction_data = pd.read_csv(prediction_data_path, parse_dates=True)\n",
    "\n",
    "prediction_data.head()"
   ]
  },
  {
   "cell_type": "code",
   "execution_count": 6,
   "id": "7ddb87b8",
   "metadata": {},
   "outputs": [
    {
     "name": "stdout",
     "output_type": "stream",
     "text": [
      "NA Counts:\n",
      "date                             0\n",
      "temperature_2m                   0\n",
      "precipitation                    0\n",
      "rain                             0\n",
      "precipitation_probability    30459\n",
      "wind_speed_10m                   0\n",
      "wind_direction_10m               0\n",
      "surface_pressure                 0\n",
      "dtype: int64\n",
      "\n",
      "\n",
      "Number of Rows = 32904\n",
      "\n",
      "\n",
      "Percent NA:\n",
      "date                          0.000000\n",
      "temperature_2m                0.000000\n",
      "precipitation                 0.000000\n",
      "rain                          0.000000\n",
      "precipitation_probability    92.569292\n",
      "wind_speed_10m                0.000000\n",
      "wind_direction_10m            0.000000\n",
      "surface_pressure              0.000000\n",
      "dtype: float64\n"
     ]
    }
   ],
   "source": [
    "#Find columns with missing values\n",
    "preds_data = prediction_data.copy()\n",
    "na_counts = preds_data.isna().sum()\n",
    "print(f\"NA Counts:\\n{na_counts}\\n\\n\")\n",
    "\n",
    "num_rows = preds_data.shape[0]\n",
    "\n",
    "print(f\"Number of Rows = {num_rows}\\n\\n\")\n",
    "\n",
    "print(f\"Percent NA:\\n{(na_counts/num_rows) * 100}\")"
   ]
  },
  {
   "cell_type": "markdown",
   "id": "65de40f5",
   "metadata": {},
   "source": [
    "## 3. Prerocessing and identifying the feature and target variables\n",
    "### Approach 1: NaN values in the precipitation_probability column is replaced with 0."
   ]
  },
  {
   "cell_type": "code",
   "execution_count": 19,
   "id": "acbb47a2",
   "metadata": {},
   "outputs": [],
   "source": [
    "def train(model, X_train, y_train, X_valid):\n",
    "    \"\"\"A single method that calls train and predict given the model type\n",
    "\n",
    "    Args:\n",
    "        model (RandomForestClassifier): Classifier model for training and prediction\n",
    "        X_train (DataFrame): Training feature data\n",
    "        y_train (Series): Training target data\n",
    "        X_valid (_type_): Validation feature data\n",
    "\n",
    "    Returns:\n",
    "        ndarray: A series of the predicted values\n",
    "    \"\"\"\n",
    "    model.fit(X_train, y_train)\n",
    "    \n",
    "    preds = model.predict(X_valid)\n",
    "    \n",
    "    return preds"
   ]
  },
  {
   "cell_type": "code",
   "execution_count": 7,
   "id": "f2780e6e",
   "metadata": {},
   "outputs": [],
   "source": [
    "def evaluate(y_true, y_pred):\n",
    "    \"\"\"A method to evaluate a binary classification model and returns a list of the accuracy, recall, precision\n",
    "\n",
    "    Args:\n",
    "        y_true (DataFrame): _description_\n",
    "        y_pred (Series): _description_\n",
    "\n",
    "    Returns:\n",
    "        Dict: List of accuracy, recall, precision\n",
    "    \"\"\"\n",
    "    accuracy = accuracy_score(y_true, y_pred)\n",
    "    recall = recall_score(y_true, y_pred)\n",
    "    precision = precision_score(y_true, y_pred)\n",
    "    return {\"accuracy\":accuracy, \n",
    "            \"recall\":recall, \n",
    "            \"precision\":precision}"
   ]
  },
  {
   "cell_type": "code",
   "execution_count": null,
   "id": "cc6789f0",
   "metadata": {},
   "outputs": [
    {
     "name": "stdout",
     "output_type": "stream",
     "text": [
      "Positive Count = 258\n",
      "Negative Count = 32646\n",
      "32904\n"
     ]
    }
   ],
   "source": [
    "#Adding a boolean mask for rain or no rain \n",
    "precipitation_probability = preds_data[\"precipitation_probability\"]\n",
    "precipitation_probability.fillna(0.0, inplace=True)\n",
    "\n",
    "preds_data[\"rain or no rain\"] = (precipitation_probability >= 60.0).astype(int)\n",
    "\n",
    "pos_count = preds_data[\"rain or no rain\"].sum()\n",
    "\n",
    "print(f\"Positive Count = {pos_count}\")\n",
    "print(f\"Negative Count = {preds_data[\"rain or no rain\"].shape[0]-pos_count}\")\n",
    "\n",
    "\n",
    "#Assigning features and target\n",
    "feature_cols = [\"temperature_2m\", \"precipitation\", \"rain\", \"wind_speed_10m\", \"wind_direction_10m\", \"surface_pressure\"]\n",
    "\n",
    "X = preds_data[feature_cols]\n",
    "\n",
    "y = preds_data[\"rain or no rain\"]\n",
    "\n",
    "print(y.size)\n",
    "\n",
    "# #Splitting training and testing datasets \n",
    "X_train, X_valid, y_train, y_valid = train_test_split(X, y, train_size=0.8, test_size=0.2, random_state=SEED)\n",
    "\n",
    "#sns.boxenplot(X, orient='y')\n",
    "#fig, axs = plt.subplots(ncols=6)\n",
    "#sns.histplot(X[\"temperature_2m\"])\n",
    "#sns.histplot(X[\"precipitation\"])\n",
    "# sns.histplot(X[\"rain\"])\n",
    "# sns.histplot(X[\"surface_pressure\"])\n",
    "# sns.histplot(X[\"wind_direction_10m\"])\n",
    "# sns.histplot(X[\"wind_speed_10m\"])\n"
   ]
  },
  {
   "cell_type": "code",
   "execution_count": null,
   "id": "9481ec82",
   "metadata": {},
   "outputs": [],
   "source": [
    "#Defining the model\n",
    "model_1 = RandomForestClassifier(n_estimators=100,random_state=SEED)\n",
    "\n",
    "#Training and fitting the model\n",
    "model_1.fit(X_train, y_train)\n",
    "preds_1 = model_1.predict(X_valid)\n",
    "\n",
    "#Evaluating the model\n",
    "scores_1 = evaluate(y_valid, preds_1)\n",
    "\n",
    "#Creating a bar plot of the accuracy, recall, precision for the training data\n",
    "sns.barplot(data=scores_1, orient='y')\n",
    "plt.savefig(\"/Users/aniruddhasharma/Library/Mobile Documents/com~apple~CloudDocs/Documents/Career/Projects/Rain Prediction/approach1_valid.jpg\")\n",
    "\n",
    "\n"
   ]
  },
  {
   "cell_type": "code",
   "execution_count": 9,
   "id": "fca4c1af",
   "metadata": {},
   "outputs": [],
   "source": [
    "#Importing the dataset for testing the prediction\n",
    "test_data = pd.read_csv(\"/Users/aniruddhasharma/Library/Mobile Documents/com~apple~CloudDocs/Documents/Career/Projects/Rain Prediction/validation_data.csv\")\n",
    "\n",
    "#Identifying feature and targets for the testing data\n",
    "X_test = test_data[feature_cols]\n",
    "y_test = (test_data[\"precipitation_probability\"] >= 60).astype(int)\n"
   ]
  },
  {
   "cell_type": "code",
   "execution_count": null,
   "id": "81338fc3",
   "metadata": {},
   "outputs": [],
   "source": [
    "Predicting with the validation features\n",
    "val_preds = model_1.predict(X_test)\n",
    "\n",
    "#Validating model with true data\n",
    "test_1_scores = evaluate(y_test, val_preds)\n",
    "\n",
    "#Creating a bar plot of the accuracy, recall, precision for the testing data\n",
    "sns.barplot(data=test_1_scores, orient='y')\n",
    "plt.savefig(\"/Users/aniruddhasharma/Library/Mobile Documents/com~apple~CloudDocs/Documents/Career/Projects/Rain Prediction/approach1_test.jpg\")\n",
    "\n"
   ]
  },
  {
   "cell_type": "markdown",
   "id": "e828af9d",
   "metadata": {},
   "source": [
    "### Approach 2: Dropping the rows containing the NaN values"
   ]
  },
  {
   "cell_type": "code",
   "execution_count": 27,
   "id": "9f633ac7",
   "metadata": {},
   "outputs": [
    {
     "name": "stdout",
     "output_type": "stream",
     "text": [
      "Percent Loss = 0.925692924872356\n",
      "Positive Count = 258\n",
      "Negative Count = 2187\n"
     ]
    }
   ],
   "source": [
    "#Dropping NaN values\n",
    "prediction_data_2 = prediction_data.copy()\n",
    "\n",
    "prediction_data_2 = prediction_data_2.dropna(axis=0)\n",
    "\n",
    "# print(prediction_data_2.isna().any().all())\n",
    "#prediction_data_2.head()\n",
    "\n",
    "print(f\"Percent Loss = {(prediction_data.shape[0] - prediction_data_2.shape[0])/prediction_data.shape[0]}\")\n",
    "\n",
    "probabilities_2 = prediction_data_2[\"precipitation_probability\"]\n",
    "\n",
    "prediction_data_2[\"rain or no rain\"] = (probabilities_2>=60).astype(int)\n",
    "\n",
    "# #Identifying feature and target \n",
    "X_2 = prediction_data_2[feature_cols]\n",
    "\n",
    "y_2 = prediction_data_2[\"rain or no rain\"]\n",
    "\n",
    "pos_2_count = prediction_data_2[\"rain or no rain\"].sum()\n",
    "print(f\"Positive Count = {pos_2_count}\")\n",
    "print(f\"Negative Count = {prediction_data_2[\"rain or no rain\"].shape[0]-pos_2_count}\")\n",
    "\n",
    "\n",
    "\n",
    "# #Splitting the training and testing data\n",
    "X_2_train, X_2_valid, y_2_train, y_2_valid = train_test_split(X_2, y_2, random_state=SEED)"
   ]
  },
  {
   "cell_type": "code",
   "execution_count": 30,
   "id": "5645c8a9",
   "metadata": {},
   "outputs": [
    {
     "data": {
      "image/png": "[encoded data removed]",
      "text/plain": [
       "<Figure size 640x480 with 1 Axes>"
      ]
     },
     "metadata": {},
     "output_type": "display_data"
    }
   ],
   "source": [
    "model_2 = RandomForestClassifier(n_estimators=150, random_state=SEED)\n",
    "\n",
    "#Training the model\n",
    "model_2.fit(X_2_train, y_2_train)\n",
    "\n",
    "#Predicting\n",
    "preds = model_2.predict(X_2_valid)\n",
    "\n",
    "#Evaluating the model\n",
    "scores_2 = evaluate(y_2_valid, preds)\n",
    "\n",
    "#Creating a bar plot and saving to file\n",
    "sns.barplot(data=scores_2, orient='y')\n",
    "plt.savefig(\"/Users/aniruddhasharma/Library/Mobile Documents/com~apple~CloudDocs/Documents/Career/Projects/Rain Prediction/approach2_valid.jpg\")"
   ]
  },
  {
   "cell_type": "code",
   "execution_count": 32,
   "id": "143f8825",
   "metadata": {},
   "outputs": [
    {
     "data": {
      "image/png": "[encoded data removed]",
      "text/plain": [
       "<Figure size 640x480 with 1 Axes>"
      ]
     },
     "metadata": {},
     "output_type": "display_data"
    }
   ],
   "source": [
    "preds_2 = model_2.predict(X_test)\n",
    "\n",
    "test_2_scores = evaluate(y_test, preds_2)\n",
    "\n",
    "sns.barplot(data=test_2_scores, orient='y')\n",
    "plt.savefig(\"/Users/aniruddhasharma/Library/Mobile Documents/com~apple~CloudDocs/Documents/Career/Projects/Rain Prediction/approach2_test.jpg\")"
   ]
  },
  {
   "cell_type": "markdown",
   "id": "d7db2fd9",
   "metadata": {},
   "source": [
    "### Approach 3: Imputing"
   ]
  },
  {
   "cell_type": "code",
   "execution_count": null,
   "id": "3b1e5b18",
   "metadata": {},
   "outputs": [],
   "source": [
    "from sklearn.model_selection import TimeSeriesSplit\n",
    "\n",
    "spltter = TimeSeriesSplit()\n",
    "preds_data_3 = prediction_data.copy()\n",
    "\n",
    "precipitation_probabilities = pd.DataFrame(preds_data_3[\"precipitation_probability\"])\n",
    "\n",
    "#Defining our imputer\n",
    "imputer = SimpleImputer(strategy='mean')\n",
    "\n",
    "#Imputing the training and validation targets\n",
    "imputed_probabilities = pd.DataFrame(imputer.fit_transform(precipitation_probabilities))\n",
    "\n",
    "#Adding the columns back to the imputed training and validation features\n",
    "imputed_probabilities.columns = precipitation_probabilities.columns\n",
    "\n",
    "#Identifying feature and target\n",
    "X_3 = preds_data_3[feature_cols]\n",
    "y_3 = (imputed_probabilities[\"precipitation_probability\"] >= 60).astype(int)\n",
    "\n",
    "#Splitting the data\n",
    "X_3_train, X_3_valid, y_3_train, y_3_valid = TimeSeriesSplit(X_3, y_3, test_size=0.8, train_size=0.2, random_state=SEED)"
   ]
  },
  {
   "cell_type": "code",
   "execution_count": null,
   "id": "dcb3dbc7",
   "metadata": {},
   "outputs": [
    {
     "name": "stdout",
     "output_type": "stream",
     "text": [
      "0.004672897196261682\n"
     ]
    },
    {
     "data": {
      "text/plain": [
       "<Axes: >"
      ]
     },
     "execution_count": 66,
     "metadata": {},
     "output_type": "execute_result"
    },
    {
     "data": {
      "image/png": "[encoded data removed]",
      "text/plain": [
       "<Figure size 640x480 with 1 Axes>"
      ]
     },
     "metadata": {},
     "output_type": "display_data"
    }
   ],
   "source": [
    "\n",
    "\n",
    "#Defining our Classifier Model\n",
    "model_3 = RandomForestClassifier(n_estimators=500, random_state=SEED)\n",
    "\n",
    "#Fitting our model to the training data\n",
    "model_3.fit(X_3_train, y_3_train)\n",
    "\n",
    "#Predicting our model \n",
    "preds_3 = model_3.predict(X_3_valid)\n",
    "\n",
    "scores_3 = evaluate(y_3_valid, preds_3)\n",
    "\n",
    "\n",
    "print(f\"{scores_3[\"recall\"]}\")\n",
    "\n",
    "sns.barplot(scores_3, orient='y')"
   ]
  },
  {
   "cell_type": "markdown",
   "id": "213a2745",
   "metadata": {},
   "source": [
    "### Approach with time series splitting"
   ]
  },
  {
   "cell_type": "code",
   "execution_count": 26,
   "id": "05a78f71",
   "metadata": {},
   "outputs": [
    {
     "name": "stderr",
     "output_type": "stream",
     "text": [
      "/Library/Frameworks/Python.framework/Versions/3.13/lib/python3.13/site-packages/sklearn/metrics/_classification.py:1731: UndefinedMetricWarning: Recall is ill-defined and being set to 0.0 due to no true samples. Use `zero_division` parameter to control this behavior.\n",
      "  _warn_prf(average, modifier, f\"{metric.capitalize()} is\", result.shape[0])\n",
      "/Library/Frameworks/Python.framework/Versions/3.13/lib/python3.13/site-packages/sklearn/metrics/_classification.py:1731: UndefinedMetricWarning: Precision is ill-defined and being set to 0.0 due to no predicted samples. Use `zero_division` parameter to control this behavior.\n",
      "  _warn_prf(average, modifier, f\"{metric.capitalize()} is\", result.shape[0])\n",
      "/Library/Frameworks/Python.framework/Versions/3.13/lib/python3.13/site-packages/sklearn/metrics/_classification.py:1731: UndefinedMetricWarning: Recall is ill-defined and being set to 0.0 due to no true samples. Use `zero_division` parameter to control this behavior.\n",
      "  _warn_prf(average, modifier, f\"{metric.capitalize()} is\", result.shape[0])\n",
      "/Library/Frameworks/Python.framework/Versions/3.13/lib/python3.13/site-packages/sklearn/metrics/_classification.py:1731: UndefinedMetricWarning: Precision is ill-defined and being set to 0.0 due to no predicted samples. Use `zero_division` parameter to control this behavior.\n",
      "  _warn_prf(average, modifier, f\"{metric.capitalize()} is\", result.shape[0])\n",
      "/Library/Frameworks/Python.framework/Versions/3.13/lib/python3.13/site-packages/sklearn/metrics/_classification.py:1731: UndefinedMetricWarning: Recall is ill-defined and being set to 0.0 due to no true samples. Use `zero_division` parameter to control this behavior.\n",
      "  _warn_prf(average, modifier, f\"{metric.capitalize()} is\", result.shape[0])\n",
      "/Library/Frameworks/Python.framework/Versions/3.13/lib/python3.13/site-packages/sklearn/metrics/_classification.py:1731: UndefinedMetricWarning: Precision is ill-defined and being set to 0.0 due to no predicted samples. Use `zero_division` parameter to control this behavior.\n",
      "  _warn_prf(average, modifier, f\"{metric.capitalize()} is\", result.shape[0])\n",
      "/Library/Frameworks/Python.framework/Versions/3.13/lib/python3.13/site-packages/sklearn/metrics/_classification.py:1731: UndefinedMetricWarning: Recall is ill-defined and being set to 0.0 due to no true samples. Use `zero_division` parameter to control this behavior.\n",
      "  _warn_prf(average, modifier, f\"{metric.capitalize()} is\", result.shape[0])\n",
      "/Library/Frameworks/Python.framework/Versions/3.13/lib/python3.13/site-packages/sklearn/metrics/_classification.py:1731: UndefinedMetricWarning: Precision is ill-defined and being set to 0.0 due to no predicted samples. Use `zero_division` parameter to control this behavior.\n",
      "  _warn_prf(average, modifier, f\"{metric.capitalize()} is\", result.shape[0])\n",
      "/Library/Frameworks/Python.framework/Versions/3.13/lib/python3.13/site-packages/sklearn/metrics/_classification.py:1731: UndefinedMetricWarning: Precision is ill-defined and being set to 0.0 due to no predicted samples. Use `zero_division` parameter to control this behavior.\n",
      "  _warn_prf(average, modifier, f\"{metric.capitalize()} is\", result.shape[0])\n"
     ]
    },
    {
     "data": {
      "image/png": "[encoded data removed]",
      "text/plain": [
       "<Figure size 640x480 with 1 Axes>"
      ]
     },
     "metadata": {},
     "output_type": "display_data"
    }
   ],
   "source": [
    "from sklearn.model_selection import TimeSeriesSplit\n",
    "\n",
    "#Making a copy of the dataframe\n",
    "time_series = prediction_data.copy()\n",
    "\n",
    "probabilities = time_series[\"precipitation_probability\"].fillna(0.0)\n",
    "\n",
    "time_series[\"rain or no rain\"] = (probabilities >= 50.0).astype(int)\n",
    "\n",
    "#Identifying feature and target\n",
    "ts_feature_cols = [\"temperature_2m\", \"rain\", \"wind_speed_10m\", \"wind_direction_10m\", \"surface_pressure\"]\n",
    "X = time_series[ts_feature_cols]\n",
    "y = time_series[\"rain or no rain\"]\n",
    "\n",
    "#Initializing a model \n",
    "model = RandomForestClassifier(n_estimators = 100)\n",
    "#Splitting the data\n",
    "tss = TimeSeriesSplit(n_splits=5)\n",
    "for i, (train_index, test_index) in enumerate(tss.split(X, y)):\n",
    "    preds = train(model, X_train=X.iloc[train_index], y_train=y.iloc[train_index], X_valid=X.iloc[test_index])\n",
    "    scores = evaluate(y.iloc[test_index], preds)\n",
    "    sns.barplot(scores, orient='y')\n",
    "    \n",
    "    plt.savefig(f\"/Users/aniruddhasharma/Library/Mobile Documents/com~apple~CloudDocs/Documents/Career/Projects/Rain Prediction/TimeSeries_Fold_{i}\")"
   ]
  },
  {
   "cell_type": "code",
   "execution_count": null,
   "id": "89592a0f",
   "metadata": {},
   "outputs": [],
   "source": [
    "#TODO: For every train and test index, fit and predict a model and validate\n"
   ]
  }
 ],
 "metadata": {
  "kernelspec": {
   "display_name": "Python 3",
   "language": "python",
   "name": "python3"
  },
  "language_info": {
   "codemirror_mode": {
    "name": "ipython",
    "version": 3
   },
   "file_extension": ".py",
   "mimetype": "text/x-python",
   "name": "python",
   "nbconvert_exporter": "python",
   "pygments_lexer": "ipython3",
   "version": "3.13.2"
  }
 },
 "nbformat": 4,
 "nbformat_minor": 5
}
